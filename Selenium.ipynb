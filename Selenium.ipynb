{
 "cells": [
  {
   "cell_type": "code",
   "execution_count": 33,
   "id": "1c4b2813",
   "metadata": {},
   "outputs": [],
   "source": [
    "import csv\n",
    "import pandas as pd\n",
    "from getpass import getpass\n",
    "from time import sleep\n",
    "from selenium.webdriver.common.keys import Keys\n",
    "from selenium.common.exceptions import NoSuchElementException\n",
    "from selenium.webdriver import Edge, Chrome"
   ]
  },
  {
   "cell_type": "code",
   "execution_count": 114,
   "id": "8e368136",
   "metadata": {},
   "outputs": [],
   "source": [
    "driver = Edge(executable_path='C:\\Python39\\msedgedriver.exe')\n",
    "# driver = Chrome(executable_path='C:\\Python39\\chromedriver.exe')"
   ]
  },
  {
   "cell_type": "code",
   "execution_count": 115,
   "id": "0a24a3ad",
   "metadata": {},
   "outputs": [],
   "source": [
    "driver.get('https://twitter.com/i/flow/login')"
   ]
  },
  {
   "cell_type": "code",
   "execution_count": 117,
   "id": "af72714e",
   "metadata": {},
   "outputs": [],
   "source": [
    "username = driver.find_element_by_xpath('//input[@name=\"text\"]')"
   ]
  },
  {
   "cell_type": "code",
   "execution_count": 118,
   "id": "956083e3",
   "metadata": {},
   "outputs": [],
   "source": [
    "username.send_keys('syagelo@gmail.com')"
   ]
  },
  {
   "cell_type": "code",
   "execution_count": 119,
   "id": "951f9fb1",
   "metadata": {},
   "outputs": [],
   "source": [
    "username.send_keys(Keys.RETURN)"
   ]
  },
  {
   "cell_type": "code",
   "execution_count": 122,
   "id": "21e452c4",
   "metadata": {},
   "outputs": [
    {
     "name": "stdout",
     "output_type": "stream",
     "text": [
      "········\n"
     ]
    }
   ],
   "source": [
    "my_password =getpass()"
   ]
  },
  {
   "cell_type": "code",
   "execution_count": 124,
   "id": "f0c955cb",
   "metadata": {},
   "outputs": [],
   "source": [
    "password = driver.find_element_by_xpath('//input[@name=\"password\"]')\n",
    "password.send_keys(my_password)"
   ]
  },
  {
   "cell_type": "code",
   "execution_count": 125,
   "id": "5afc286a",
   "metadata": {},
   "outputs": [],
   "source": [
    "password.send_keys(Keys.RETURN)"
   ]
  },
  {
   "cell_type": "code",
   "execution_count": 131,
   "id": "076806ef",
   "metadata": {
    "scrolled": true
   },
   "outputs": [],
   "source": [
    "search_input = driver.find_element_by_xpath('//input[@aria-label=\"Search query\"]')\n",
    "search_input.send_keys('Yuval Noah Harari')"
   ]
  },
  {
   "cell_type": "code",
   "execution_count": 130,
   "id": "0ca71d12",
   "metadata": {},
   "outputs": [
    {
     "ename": "StaleElementReferenceException",
     "evalue": "Message: stale element reference: element is not attached to the page document\n  (Session info: MicrosoftEdge=96.0.1054.34)\n",
     "output_type": "error",
     "traceback": [
      "\u001b[1;31m---------------------------------------------------------------------------\u001b[0m",
      "\u001b[1;31mStaleElementReferenceException\u001b[0m            Traceback (most recent call last)",
      "\u001b[1;32m<ipython-input-130-b1dc3181c650>\u001b[0m in \u001b[0;36m<module>\u001b[1;34m\u001b[0m\n\u001b[1;32m----> 1\u001b[1;33m \u001b[0msearch_input\u001b[0m\u001b[1;33m.\u001b[0m\u001b[0msend_keys\u001b[0m\u001b[1;33m(\u001b[0m\u001b[0mKeys\u001b[0m\u001b[1;33m.\u001b[0m\u001b[0mRETURN\u001b[0m\u001b[1;33m)\u001b[0m\u001b[1;33m\u001b[0m\u001b[1;33m\u001b[0m\u001b[0m\n\u001b[0m",
      "\u001b[1;32m~\\desktop\\projects\\twitterScraper\\env\\lib\\site-packages\\selenium\\webdriver\\remote\\webelement.py\u001b[0m in \u001b[0;36msend_keys\u001b[1;34m(self, *value)\u001b[0m\n\u001b[0;32m    475\u001b[0m                 \u001b[0mvalue\u001b[0m \u001b[1;33m=\u001b[0m \u001b[0mself\u001b[0m\u001b[1;33m.\u001b[0m\u001b[0m_upload\u001b[0m\u001b[1;33m(\u001b[0m\u001b[0mlocal_file\u001b[0m\u001b[1;33m)\u001b[0m\u001b[1;33m\u001b[0m\u001b[1;33m\u001b[0m\u001b[0m\n\u001b[0;32m    476\u001b[0m \u001b[1;33m\u001b[0m\u001b[0m\n\u001b[1;32m--> 477\u001b[1;33m         self._execute(Command.SEND_KEYS_TO_ELEMENT,\n\u001b[0m\u001b[0;32m    478\u001b[0m                       {'text': \"\".join(keys_to_typing(value)),\n\u001b[0;32m    479\u001b[0m                        'value': keys_to_typing(value)})\n",
      "\u001b[1;32m~\\desktop\\projects\\twitterScraper\\env\\lib\\site-packages\\selenium\\webdriver\\remote\\webelement.py\u001b[0m in \u001b[0;36m_execute\u001b[1;34m(self, command, params)\u001b[0m\n\u001b[0;32m    631\u001b[0m             \u001b[0mparams\u001b[0m \u001b[1;33m=\u001b[0m \u001b[1;33m{\u001b[0m\u001b[1;33m}\u001b[0m\u001b[1;33m\u001b[0m\u001b[1;33m\u001b[0m\u001b[0m\n\u001b[0;32m    632\u001b[0m         \u001b[0mparams\u001b[0m\u001b[1;33m[\u001b[0m\u001b[1;34m'id'\u001b[0m\u001b[1;33m]\u001b[0m \u001b[1;33m=\u001b[0m \u001b[0mself\u001b[0m\u001b[1;33m.\u001b[0m\u001b[0m_id\u001b[0m\u001b[1;33m\u001b[0m\u001b[1;33m\u001b[0m\u001b[0m\n\u001b[1;32m--> 633\u001b[1;33m         \u001b[1;32mreturn\u001b[0m \u001b[0mself\u001b[0m\u001b[1;33m.\u001b[0m\u001b[0m_parent\u001b[0m\u001b[1;33m.\u001b[0m\u001b[0mexecute\u001b[0m\u001b[1;33m(\u001b[0m\u001b[0mcommand\u001b[0m\u001b[1;33m,\u001b[0m \u001b[0mparams\u001b[0m\u001b[1;33m)\u001b[0m\u001b[1;33m\u001b[0m\u001b[1;33m\u001b[0m\u001b[0m\n\u001b[0m\u001b[0;32m    634\u001b[0m \u001b[1;33m\u001b[0m\u001b[0m\n\u001b[0;32m    635\u001b[0m     \u001b[1;32mdef\u001b[0m \u001b[0mfind_element\u001b[0m\u001b[1;33m(\u001b[0m\u001b[0mself\u001b[0m\u001b[1;33m,\u001b[0m \u001b[0mby\u001b[0m\u001b[1;33m=\u001b[0m\u001b[0mBy\u001b[0m\u001b[1;33m.\u001b[0m\u001b[0mID\u001b[0m\u001b[1;33m,\u001b[0m \u001b[0mvalue\u001b[0m\u001b[1;33m=\u001b[0m\u001b[1;32mNone\u001b[0m\u001b[1;33m)\u001b[0m\u001b[1;33m:\u001b[0m\u001b[1;33m\u001b[0m\u001b[1;33m\u001b[0m\u001b[0m\n",
      "\u001b[1;32m~\\desktop\\projects\\twitterScraper\\env\\lib\\site-packages\\selenium\\webdriver\\remote\\webdriver.py\u001b[0m in \u001b[0;36mexecute\u001b[1;34m(self, driver_command, params)\u001b[0m\n\u001b[0;32m    319\u001b[0m         \u001b[0mresponse\u001b[0m \u001b[1;33m=\u001b[0m \u001b[0mself\u001b[0m\u001b[1;33m.\u001b[0m\u001b[0mcommand_executor\u001b[0m\u001b[1;33m.\u001b[0m\u001b[0mexecute\u001b[0m\u001b[1;33m(\u001b[0m\u001b[0mdriver_command\u001b[0m\u001b[1;33m,\u001b[0m \u001b[0mparams\u001b[0m\u001b[1;33m)\u001b[0m\u001b[1;33m\u001b[0m\u001b[1;33m\u001b[0m\u001b[0m\n\u001b[0;32m    320\u001b[0m         \u001b[1;32mif\u001b[0m \u001b[0mresponse\u001b[0m\u001b[1;33m:\u001b[0m\u001b[1;33m\u001b[0m\u001b[1;33m\u001b[0m\u001b[0m\n\u001b[1;32m--> 321\u001b[1;33m             \u001b[0mself\u001b[0m\u001b[1;33m.\u001b[0m\u001b[0merror_handler\u001b[0m\u001b[1;33m.\u001b[0m\u001b[0mcheck_response\u001b[0m\u001b[1;33m(\u001b[0m\u001b[0mresponse\u001b[0m\u001b[1;33m)\u001b[0m\u001b[1;33m\u001b[0m\u001b[1;33m\u001b[0m\u001b[0m\n\u001b[0m\u001b[0;32m    322\u001b[0m             response['value'] = self._unwrap_value(\n\u001b[0;32m    323\u001b[0m                 response.get('value', None))\n",
      "\u001b[1;32m~\\desktop\\projects\\twitterScraper\\env\\lib\\site-packages\\selenium\\webdriver\\remote\\errorhandler.py\u001b[0m in \u001b[0;36mcheck_response\u001b[1;34m(self, response)\u001b[0m\n\u001b[0;32m    240\u001b[0m                 \u001b[0malert_text\u001b[0m \u001b[1;33m=\u001b[0m \u001b[0mvalue\u001b[0m\u001b[1;33m[\u001b[0m\u001b[1;34m'alert'\u001b[0m\u001b[1;33m]\u001b[0m\u001b[1;33m.\u001b[0m\u001b[0mget\u001b[0m\u001b[1;33m(\u001b[0m\u001b[1;34m'text'\u001b[0m\u001b[1;33m)\u001b[0m\u001b[1;33m\u001b[0m\u001b[1;33m\u001b[0m\u001b[0m\n\u001b[0;32m    241\u001b[0m             \u001b[1;32mraise\u001b[0m \u001b[0mexception_class\u001b[0m\u001b[1;33m(\u001b[0m\u001b[0mmessage\u001b[0m\u001b[1;33m,\u001b[0m \u001b[0mscreen\u001b[0m\u001b[1;33m,\u001b[0m \u001b[0mstacktrace\u001b[0m\u001b[1;33m,\u001b[0m \u001b[0malert_text\u001b[0m\u001b[1;33m)\u001b[0m\u001b[1;33m\u001b[0m\u001b[1;33m\u001b[0m\u001b[0m\n\u001b[1;32m--> 242\u001b[1;33m         \u001b[1;32mraise\u001b[0m \u001b[0mexception_class\u001b[0m\u001b[1;33m(\u001b[0m\u001b[0mmessage\u001b[0m\u001b[1;33m,\u001b[0m \u001b[0mscreen\u001b[0m\u001b[1;33m,\u001b[0m \u001b[0mstacktrace\u001b[0m\u001b[1;33m)\u001b[0m\u001b[1;33m\u001b[0m\u001b[1;33m\u001b[0m\u001b[0m\n\u001b[0m\u001b[0;32m    243\u001b[0m \u001b[1;33m\u001b[0m\u001b[0m\n\u001b[0;32m    244\u001b[0m     \u001b[1;32mdef\u001b[0m \u001b[0m_value_or_default\u001b[0m\u001b[1;33m(\u001b[0m\u001b[0mself\u001b[0m\u001b[1;33m,\u001b[0m \u001b[0mobj\u001b[0m\u001b[1;33m,\u001b[0m \u001b[0mkey\u001b[0m\u001b[1;33m,\u001b[0m \u001b[0mdefault\u001b[0m\u001b[1;33m)\u001b[0m\u001b[1;33m:\u001b[0m\u001b[1;33m\u001b[0m\u001b[1;33m\u001b[0m\u001b[0m\n",
      "\u001b[1;31mStaleElementReferenceException\u001b[0m: Message: stale element reference: element is not attached to the page document\n  (Session info: MicrosoftEdge=96.0.1054.34)\n"
     ]
    }
   ],
   "source": [
    "search_input.send_keys(Keys.RETURN)"
   ]
  },
  {
   "cell_type": "code",
   "execution_count": 128,
   "id": "9b631c70",
   "metadata": {},
   "outputs": [],
   "source": [
    "driver.find_element_by_link_text('Latest').click()"
   ]
  },
  {
   "cell_type": "code",
   "execution_count": 132,
   "id": "bcf47044",
   "metadata": {},
   "outputs": [
    {
     "data": {
      "text/plain": [
       "[<selenium.webdriver.remote.webelement.WebElement (session=\"e845b0d3cc8c0943f98cd89081811694\", element=\"2ddfd293-deb0-43fc-9a27-0b50d592f84d\")>,\n",
       " <selenium.webdriver.remote.webelement.WebElement (session=\"e845b0d3cc8c0943f98cd89081811694\", element=\"772ac6a7-353b-4c8b-abbc-28d1c904a0b4\")>,\n",
       " <selenium.webdriver.remote.webelement.WebElement (session=\"e845b0d3cc8c0943f98cd89081811694\", element=\"3014bd4b-8cf7-4f5b-9244-7f1d81a20a3c\")>,\n",
       " <selenium.webdriver.remote.webelement.WebElement (session=\"e845b0d3cc8c0943f98cd89081811694\", element=\"e9b466eb-6cf9-4b95-b0d3-52e89c4722b6\")>,\n",
       " <selenium.webdriver.remote.webelement.WebElement (session=\"e845b0d3cc8c0943f98cd89081811694\", element=\"0b0bed19-ed0d-41ca-8eb4-d4b2e7d54991\")>,\n",
       " <selenium.webdriver.remote.webelement.WebElement (session=\"e845b0d3cc8c0943f98cd89081811694\", element=\"5512ca64-a6dc-4b86-b5f0-888af6f111fd\")>,\n",
       " <selenium.webdriver.remote.webelement.WebElement (session=\"e845b0d3cc8c0943f98cd89081811694\", element=\"6e27b68c-fb5b-465f-827f-daad392b139f\")>,\n",
       " <selenium.webdriver.remote.webelement.WebElement (session=\"e845b0d3cc8c0943f98cd89081811694\", element=\"93b804d2-a457-48d5-9889-a4d51a1d00cf\")>,\n",
       " <selenium.webdriver.remote.webelement.WebElement (session=\"e845b0d3cc8c0943f98cd89081811694\", element=\"5e97ac92-8b94-434d-b9f5-bacffa889077\")>]"
      ]
     },
     "execution_count": 132,
     "metadata": {},
     "output_type": "execute_result"
    }
   ],
   "source": [
    "cards = driver.find_elements_by_xpath('//article[@data-testid=\"tweet\"]')\n",
    "# //div[@class=\"css-1dbjc4n r-1iusvr4 r-16y2uox r-1777fci r-kzbkwu\"]/div[1]/div[1]/div[1]/div//span/span]\n",
    "cards"
   ]
  },
  {
   "cell_type": "code",
   "execution_count": 133,
   "id": "122d95e3",
   "metadata": {},
   "outputs": [
    {
     "data": {
      "text/plain": [
       "<selenium.webdriver.remote.webelement.WebElement (session=\"e845b0d3cc8c0943f98cd89081811694\", element=\"772ac6a7-353b-4c8b-abbc-28d1c904a0b4\")>"
      ]
     },
     "execution_count": 133,
     "metadata": {},
     "output_type": "execute_result"
    }
   ],
   "source": [
    "card = cards[1]\n",
    "card"
   ]
  },
  {
   "cell_type": "code",
   "execution_count": 134,
   "id": "b6e08c4e",
   "metadata": {},
   "outputs": [
    {
     "data": {
      "text/plain": [
       "'Lada'"
      ]
     },
     "execution_count": 134,
     "metadata": {},
     "output_type": "execute_result"
    }
   ],
   "source": [
    "#username\n",
    "card.find_element_by_xpath('./div/div/div/div[2]/div[2]/div[1]//span/span').text"
   ]
  },
  {
   "cell_type": "code",
   "execution_count": 135,
   "id": "e6edec29",
   "metadata": {},
   "outputs": [
    {
     "data": {
      "text/plain": [
       "'@ladaishappy'"
      ]
     },
     "execution_count": 135,
     "metadata": {},
     "output_type": "execute_result"
    }
   ],
   "source": [
    "#twitter handle\n",
    "card.find_element_by_xpath('.//span[contains(text(), \"@\")]').text"
   ]
  },
  {
   "cell_type": "code",
   "execution_count": 136,
   "id": "87bd82c6",
   "metadata": {},
   "outputs": [
    {
     "data": {
      "text/plain": [
       "'2021-11-30T07:54:30.000Z'"
      ]
     },
     "execution_count": 136,
     "metadata": {},
     "output_type": "execute_result"
    }
   ],
   "source": [
    "#postdate\n",
    "card.find_element_by_xpath('.//time').get_attribute('datetime')"
   ]
  },
  {
   "cell_type": "code",
   "execution_count": 137,
   "id": "931ad2c4",
   "metadata": {
    "scrolled": true
   },
   "outputs": [
    {
     "data": {
      "text/plain": [
       "\"'Buddhism' audiobook in 6 languages from content of the book Sapiens: A Brief History of Humankind by Yuval Noah Harari\""
      ]
     },
     "execution_count": 137,
     "metadata": {},
     "output_type": "execute_result"
    }
   ],
   "source": [
    "#content of tweet\n",
    "comment = card.find_element_by_xpath('./div/div/div/div[2]/div[2]/div[2]/div[1]').text\n",
    "responding = card.find_element_by_xpath('./div/div/div/div[2]/div[2]/div[2]/div[2]').text\n",
    "comment + responding "
   ]
  },
  {
   "cell_type": "code",
   "execution_count": 138,
   "id": "4be2f7ba",
   "metadata": {},
   "outputs": [
    {
     "data": {
      "text/plain": [
       "''"
      ]
     },
     "execution_count": 138,
     "metadata": {},
     "output_type": "execute_result"
    }
   ],
   "source": [
    "#retweet\n",
    "card.find_element_by_xpath('.//div[@data-testid=\"retweet\"]').text"
   ]
  },
  {
   "cell_type": "code",
   "execution_count": 139,
   "id": "c906820c",
   "metadata": {},
   "outputs": [
    {
     "data": {
      "text/plain": [
       "'1'"
      ]
     },
     "execution_count": 139,
     "metadata": {},
     "output_type": "execute_result"
    }
   ],
   "source": [
    "card.find_element_by_xpath('.//div[@data-testid=\"reply\"]').text"
   ]
  },
  {
   "cell_type": "code",
   "execution_count": 140,
   "id": "1b689b77",
   "metadata": {},
   "outputs": [
    {
     "data": {
      "text/plain": [
       "''"
      ]
     },
     "execution_count": 140,
     "metadata": {},
     "output_type": "execute_result"
    }
   ],
   "source": [
    "#likes\n",
    "card.find_element_by_xpath('.//div[@data-testid=\"like\"]').text"
   ]
  },
  {
   "cell_type": "markdown",
   "id": "a515ccaa",
   "metadata": {},
   "source": [
    "### Putting all together"
   ]
  },
  {
   "cell_type": "code",
   "execution_count": 141,
   "id": "5d31f2fa",
   "metadata": {},
   "outputs": [],
   "source": [
    "def get_tweet_data(card):\n",
    "    \"\"\"Extract data from tweet card\"\"\"\n",
    "    username = card.find_element_by_xpath('./div/div/div/div[2]/div[2]/div[1]//span').text\n",
    "    try:\n",
    "        handle = card.find_element_by_xpath('.//span[contains(text(), \"@\")]').text\n",
    "    except NoSuchElementException:\n",
    "        return\n",
    "    \n",
    "    try:\n",
    "         postdate = card.find_element_by_xpath('.//time').get_attribute('datetime')\n",
    "    except NoSuchElementException:\n",
    "        return\n",
    "    \n",
    "    comment = card.find_element_by_xpath('./div/div/div/div[2]/div[2]/div[2]/div[1]').text\n",
    "    responding = card.find_element_by_xpath('./div/div/div/div[2]/div[2]/div[2]/div[2]').text\n",
    "    text = comment + responding\n",
    "    reply_cnt = card.find_element_by_xpath('.//div[@data-testid=\"reply\"]').text\n",
    "    retweet_cnt = card.find_element_by_xpath('.//div[@data-testid=\"retweet\"]').text\n",
    "    like_cnt = card.find_element_by_xpath('.//div[@data-testid=\"like\"]').text\n",
    "    \n",
    "    # get a string of all emojis contained in the tweet\n",
    "    \"\"\"Emojis are stored as images... so I convert the filename, which is stored as unicode, into \n",
    "    the emoji character.\"\"\"\n",
    "#     emoji_tags = card.find_elements_by_xpath('.//img[contains(@src, \"emoji\")]')\n",
    "#     emoji_list = []\n",
    "#     for tag in emoji_tags:\n",
    "#         filename = tag.get_attribute('src')\n",
    "#         try:\n",
    "#             emoji = chr(int(re.search(r'svg\\/([a-z0-9]+)\\.svg', filename).group(1), base=16))\n",
    "#         except AttributeError:\n",
    "#             continue\n",
    "#         if emoji:\n",
    "#             emoji_list.append(emoji)\n",
    "#     emojis = ' '.join(emoji_list)\n",
    "    \n",
    "    tweet = (username, handle, postdate, text, reply_cnt, retweet_cnt, like_cnt)\n",
    "    return tweet    "
   ]
  },
  {
   "cell_type": "code",
   "execution_count": 142,
   "id": "22b1f9f9",
   "metadata": {},
   "outputs": [
    {
     "data": {
      "text/plain": [
       "('Lada',\n",
       " '@ladaishappy',\n",
       " '2021-11-30T07:54:30.000Z',\n",
       " \"'Buddhism' audiobook in 6 languages from content of the book Sapiens: A Brief History of Humankind by Yuval Noah Harari\",\n",
       " '1',\n",
       " '',\n",
       " '')"
      ]
     },
     "execution_count": 142,
     "metadata": {},
     "output_type": "execute_result"
    }
   ],
   "source": [
    "get_tweet_data(card)"
   ]
  },
  {
   "cell_type": "code",
   "execution_count": 143,
   "id": "e9c5e6b0",
   "metadata": {},
   "outputs": [],
   "source": [
    "data = []"
   ]
  },
  {
   "cell_type": "code",
   "execution_count": 144,
   "id": "f1581ea7",
   "metadata": {},
   "outputs": [],
   "source": [
    "\n",
    "tweet_ids = set()\n",
    "last_position = driver.execute_script(\"return window.pageYOffset;\")\n",
    "scrolling = True\n",
    "\n",
    "while scrolling:\n",
    "    page_cards = driver.find_elements_by_xpath('//article[@data-testid=\"tweet\"]')\n",
    "    for card in page_cards:\n",
    "        tweet = get_tweet_data(card)\n",
    "        if tweet:\n",
    "            tweet_id = ''.join(tweet)\n",
    "            if tweet_id not in tweet_ids:\n",
    "                tweet_ids.add(tweet_id)\n",
    "                data.append(tweet)\n",
    "            \n",
    "    scroll_attempt = 0\n",
    "    while True:\n",
    "        # check scroll position\n",
    "        driver.execute_script('window.scrollTo(0, document.body.scrollHeight);')\n",
    "        sleep(2)\n",
    "        curr_position = driver.execute_script(\"return window.pageYOffset;\")\n",
    "        if last_position == curr_position:\n",
    "            scroll_attempt += 1\n",
    "            \n",
    "            # end of scroll region\n",
    "            if scroll_attempt >= 3:\n",
    "                scrolling = False\n",
    "                break\n",
    "            else:\n",
    "                sleep(2) # attempt another scroll\n",
    "        else:\n",
    "            last_position = curr_position\n",
    "            break\n",
    "\n",
    "# close the web driver\n",
    "driver.close()"
   ]
  },
  {
   "cell_type": "code",
   "execution_count": 145,
   "id": "3b32825f",
   "metadata": {},
   "outputs": [],
   "source": [
    "with open('harari_scraper_4.csv', 'w', newline='', encoding='utf-8') as f:\n",
    "    header = ['UserName', 'Handle', 'Timestamp', 'Text', 'Comments', 'Rerweets', 'Likes']\n",
    "    writer = csv.writer(f)\n",
    "    writer.writerow(header)\n",
    "    writer.writerows(data)"
   ]
  },
  {
   "cell_type": "code",
   "execution_count": 147,
   "id": "fb165d7c",
   "metadata": {},
   "outputs": [
    {
     "data": {
      "text/plain": [
       "2114"
      ]
     },
     "execution_count": 147,
     "metadata": {},
     "output_type": "execute_result"
    }
   ],
   "source": [
    "df = pd.read_csv('harari_scraper_4.csv')\n",
    "len(df)"
   ]
  },
  {
   "cell_type": "code",
   "execution_count": 773,
   "id": "93258ed9",
   "metadata": {},
   "outputs": [
    {
     "data": {
      "text/plain": [
       "0       2021-11-29T19:27:22.000Z\n",
       "1       2021-11-29T18:59:01.000Z\n",
       "2       2021-11-29T18:49:13.000Z\n",
       "3       2021-11-29T18:04:00.000Z\n",
       "4       2021-11-29T18:02:31.000Z\n",
       "                  ...           \n",
       "3291    2021-10-07T23:19:51.000Z\n",
       "3292    2021-10-07T21:19:08.000Z\n",
       "3293    2021-10-07T19:35:10.000Z\n",
       "3294    2021-10-07T17:50:07.000Z\n",
       "3295    2021-10-07T17:28:46.000Z\n",
       "Name: Timestamp, Length: 3296, dtype: object"
      ]
     },
     "execution_count": 773,
     "metadata": {},
     "output_type": "execute_result"
    }
   ],
   "source": [
    "df.Timestamp"
   ]
  },
  {
   "cell_type": "code",
   "execution_count": null,
   "id": "917a6240",
   "metadata": {},
   "outputs": [],
   "source": []
  }
 ],
 "metadata": {
  "kernelspec": {
   "display_name": "Python 3 (ipykernel)",
   "language": "python",
   "name": "python3"
  },
  "language_info": {
   "codemirror_mode": {
    "name": "ipython",
    "version": 3
   },
   "file_extension": ".py",
   "mimetype": "text/x-python",
   "name": "python",
   "nbconvert_exporter": "python",
   "pygments_lexer": "ipython3",
   "version": "3.9.7"
  }
 },
 "nbformat": 4,
 "nbformat_minor": 5
}
