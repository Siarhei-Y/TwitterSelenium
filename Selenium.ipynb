{
 "cells": [
  {
   "cell_type": "code",
   "execution_count": 1,
   "id": "1c4b2813",
   "metadata": {},
   "outputs": [],
   "source": [
    "import csv\n",
    "import pandas as pd\n",
    "from getpass import getpass\n",
    "from time import sleep\n",
    "from selenium.webdriver.common.keys import Keys\n",
    "from selenium.common.exceptions import NoSuchElementException\n",
    "from selenium.webdriver import Edge, Chrome"
   ]
  },
  {
   "cell_type": "code",
   "execution_count": 2,
   "id": "8e368136",
   "metadata": {},
   "outputs": [],
   "source": [
    "driver = Edge(executable_path='C:\\Python39\\msedgedriver.exe')\n",
    "# driver = Chrome(executable_path='C:\\Python39\\chromedriver.exe')"
   ]
  },
  {
   "cell_type": "code",
   "execution_count": 3,
   "id": "0a24a3ad",
   "metadata": {},
   "outputs": [],
   "source": [
    "driver.get('https://twitter.com/i/flow/login')"
   ]
  },
  {
   "cell_type": "code",
   "execution_count": 4,
   "id": "af72714e",
   "metadata": {},
   "outputs": [],
   "source": [
    "username = driver.find_element_by_xpath('//input[@name=\"text\"]')"
   ]
  },
  {
   "cell_type": "code",
   "execution_count": 5,
   "id": "956083e3",
   "metadata": {},
   "outputs": [],
   "source": [
    "username.send_keys('syagelo@gmail.com')"
   ]
  },
  {
   "cell_type": "code",
   "execution_count": 6,
   "id": "951f9fb1",
   "metadata": {},
   "outputs": [],
   "source": [
    "username.send_keys(Keys.RETURN)"
   ]
  },
  {
   "cell_type": "code",
   "execution_count": 7,
   "id": "21e452c4",
   "metadata": {},
   "outputs": [
    {
     "name": "stdout",
     "output_type": "stream",
     "text": [
      "········\n"
     ]
    }
   ],
   "source": [
    "my_password =getpass()"
   ]
  },
  {
   "cell_type": "code",
   "execution_count": 8,
   "id": "f0c955cb",
   "metadata": {},
   "outputs": [],
   "source": [
    "password = driver.find_element_by_xpath('//input[@name=\"password\"]')\n",
    "password.send_keys(my_password)"
   ]
  },
  {
   "cell_type": "code",
   "execution_count": 9,
   "id": "5afc286a",
   "metadata": {},
   "outputs": [],
   "source": [
    "password.send_keys(Keys.RETURN)"
   ]
  },
  {
   "cell_type": "code",
   "execution_count": 11,
   "id": "076806ef",
   "metadata": {
    "scrolled": true
   },
   "outputs": [],
   "source": [
    "search_input = driver.find_element_by_xpath('//input[@aria-label=\"Search query\"]')\n",
    "search_input.send_keys('Yuval Noah Harari')"
   ]
  },
  {
   "cell_type": "code",
   "execution_count": 12,
   "id": "0ca71d12",
   "metadata": {},
   "outputs": [],
   "source": [
    "search_input.send_keys(Keys.RETURN)"
   ]
  },
  {
   "cell_type": "code",
   "execution_count": 13,
   "id": "9b631c70",
   "metadata": {},
   "outputs": [],
   "source": [
    "driver.find_element_by_link_text('Latest').click()"
   ]
  },
  {
   "cell_type": "code",
   "execution_count": 14,
   "id": "bcf47044",
   "metadata": {},
   "outputs": [
    {
     "data": {
      "text/plain": [
       "[<selenium.webdriver.remote.webelement.WebElement (session=\"0c636298f603d765115be040b805813c\", element=\"d93dfb01-2202-4945-93ec-3b171ebabb65\")>,\n",
       " <selenium.webdriver.remote.webelement.WebElement (session=\"0c636298f603d765115be040b805813c\", element=\"1b718341-7a12-4a23-a8e5-46abd39f5505\")>,\n",
       " <selenium.webdriver.remote.webelement.WebElement (session=\"0c636298f603d765115be040b805813c\", element=\"88201a2a-b9fb-4408-9d5b-aceecc2c4f5d\")>,\n",
       " <selenium.webdriver.remote.webelement.WebElement (session=\"0c636298f603d765115be040b805813c\", element=\"54ed7dc1-d641-4148-a604-45971bb394d7\")>,\n",
       " <selenium.webdriver.remote.webelement.WebElement (session=\"0c636298f603d765115be040b805813c\", element=\"0175e3b5-68bb-4faa-83dd-12d05f0199c5\")>,\n",
       " <selenium.webdriver.remote.webelement.WebElement (session=\"0c636298f603d765115be040b805813c\", element=\"e23efefb-3d14-46eb-9775-7b8d19f227cf\")>,\n",
       " <selenium.webdriver.remote.webelement.WebElement (session=\"0c636298f603d765115be040b805813c\", element=\"00b4409d-9d8e-4a22-83b5-fcbd6fa80105\")>,\n",
       " <selenium.webdriver.remote.webelement.WebElement (session=\"0c636298f603d765115be040b805813c\", element=\"6e035e9f-332f-4fb7-8ef2-b7f0b344f3b4\")>]"
      ]
     },
     "execution_count": 14,
     "metadata": {},
     "output_type": "execute_result"
    }
   ],
   "source": [
    "cards = driver.find_elements_by_xpath('//article[@data-testid=\"tweet\"]')\n",
    "cards"
   ]
  },
  {
   "cell_type": "code",
   "execution_count": 15,
   "id": "122d95e3",
   "metadata": {},
   "outputs": [
    {
     "data": {
      "text/plain": [
       "<selenium.webdriver.remote.webelement.WebElement (session=\"0c636298f603d765115be040b805813c\", element=\"1b718341-7a12-4a23-a8e5-46abd39f5505\")>"
      ]
     },
     "execution_count": 15,
     "metadata": {},
     "output_type": "execute_result"
    }
   ],
   "source": [
    "card = cards[1]\n",
    "card"
   ]
  },
  {
   "cell_type": "code",
   "execution_count": 18,
   "id": "b6e08c4e",
   "metadata": {},
   "outputs": [
    {
     "data": {
      "text/plain": [
       "'Ethic'"
      ]
     },
     "execution_count": 18,
     "metadata": {},
     "output_type": "execute_result"
    }
   ],
   "source": [
    "#username\n",
    "card.find_element_by_xpath('./div/div/div/div[2]/div[2]/div[1]//span/span').text"
   ]
  },
  {
   "cell_type": "code",
   "execution_count": 19,
   "id": "e6edec29",
   "metadata": {},
   "outputs": [
    {
     "data": {
      "text/plain": [
       "'@Ethic_'"
      ]
     },
     "execution_count": 19,
     "metadata": {},
     "output_type": "execute_result"
    }
   ],
   "source": [
    "#twitter handle\n",
    "card.find_element_by_xpath('.//span[contains(text(), \"@\")]').text"
   ]
  },
  {
   "cell_type": "code",
   "execution_count": 20,
   "id": "87bd82c6",
   "metadata": {},
   "outputs": [
    {
     "data": {
      "text/plain": [
       "'2021-11-30T10:00:08.000Z'"
      ]
     },
     "execution_count": 20,
     "metadata": {},
     "output_type": "execute_result"
    }
   ],
   "source": [
    "#postdate\n",
    "card.find_element_by_xpath('.//time').get_attribute('datetime')"
   ]
  },
  {
   "cell_type": "code",
   "execution_count": 21,
   "id": "931ad2c4",
   "metadata": {
    "scrolled": true
   },
   "outputs": [
    {
     "data": {
      "text/plain": [
       "\"El historiador Yuval Noah Harari descifra algunas de las claves a las que deberemos atenernos en el futuro próximo: la inteligencia artificial, la gestión de nuestros propios datos, la amenaza de la violencia o el papel de la religión. \\n@EfectoNaimethic.es\\n«La información es la base del poder político: quien controla los datos, controla el mundo»\\nTras 10 años de 'Sapiens', Harari desentraña la perspectiva que puede esperar la humanidad en un futuro dominado por el peso de la información y los datos.\""
      ]
     },
     "execution_count": 21,
     "metadata": {},
     "output_type": "execute_result"
    }
   ],
   "source": [
    "#content of tweet\n",
    "comment = card.find_element_by_xpath('./div/div/div/div[2]/div[2]/div[2]/div[1]').text\n",
    "responding = card.find_element_by_xpath('./div/div/div/div[2]/div[2]/div[2]/div[2]').text\n",
    "comment + responding "
   ]
  },
  {
   "cell_type": "code",
   "execution_count": 22,
   "id": "4be2f7ba",
   "metadata": {},
   "outputs": [
    {
     "data": {
      "text/plain": [
       "'4'"
      ]
     },
     "execution_count": 22,
     "metadata": {},
     "output_type": "execute_result"
    }
   ],
   "source": [
    "#retweet\n",
    "card.find_element_by_xpath('.//div[@data-testid=\"retweet\"]').text"
   ]
  },
  {
   "cell_type": "code",
   "execution_count": 23,
   "id": "c906820c",
   "metadata": {},
   "outputs": [
    {
     "data": {
      "text/plain": [
       "''"
      ]
     },
     "execution_count": 23,
     "metadata": {},
     "output_type": "execute_result"
    }
   ],
   "source": [
    "card.find_element_by_xpath('.//div[@data-testid=\"reply\"]').text"
   ]
  },
  {
   "cell_type": "code",
   "execution_count": 24,
   "id": "1b689b77",
   "metadata": {},
   "outputs": [
    {
     "data": {
      "text/plain": [
       "'3'"
      ]
     },
     "execution_count": 24,
     "metadata": {},
     "output_type": "execute_result"
    }
   ],
   "source": [
    "#likes\n",
    "card.find_element_by_xpath('.//div[@data-testid=\"like\"]').text"
   ]
  },
  {
   "cell_type": "markdown",
   "id": "a515ccaa",
   "metadata": {},
   "source": [
    "### Putting all together"
   ]
  },
  {
   "cell_type": "code",
   "execution_count": 25,
   "id": "5d31f2fa",
   "metadata": {},
   "outputs": [],
   "source": [
    "def get_tweet_data(card):\n",
    "    \"\"\"Extract data from tweet card\"\"\"\n",
    "    username = card.find_element_by_xpath('./div/div/div/div[2]/div[2]/div[1]//span').text\n",
    "    try:\n",
    "        handle = card.find_element_by_xpath('.//span[contains(text(), \"@\")]').text\n",
    "    except NoSuchElementException:\n",
    "        return\n",
    "    \n",
    "    try:\n",
    "         postdate = card.find_element_by_xpath('.//time').get_attribute('datetime')\n",
    "    except NoSuchElementException:\n",
    "        return\n",
    "    \n",
    "    comment = card.find_element_by_xpath('./div/div/div/div[2]/div[2]/div[2]/div[1]').text\n",
    "    responding = card.find_element_by_xpath('./div/div/div/div[2]/div[2]/div[2]/div[2]').text\n",
    "    text = comment + responding\n",
    "    reply_cnt = card.find_element_by_xpath('.//div[@data-testid=\"reply\"]').text\n",
    "    retweet_cnt = card.find_element_by_xpath('.//div[@data-testid=\"retweet\"]').text\n",
    "    like_cnt = card.find_element_by_xpath('.//div[@data-testid=\"like\"]').text\n",
    "    \n",
    "    # get a string of all emojis contained in the tweet\n",
    "    \"\"\"Emojis are stored as images... so I convert the filename, which is stored as unicode, into \n",
    "    the emoji character.\"\"\"\n",
    "#     emoji_tags = card.find_elements_by_xpath('.//img[contains(@src, \"emoji\")]')\n",
    "#     emoji_list = []\n",
    "#     for tag in emoji_tags:\n",
    "#         filename = tag.get_attribute('src')\n",
    "#         try:\n",
    "#             emoji = chr(int(re.search(r'svg\\/([a-z0-9]+)\\.svg', filename).group(1), base=16))\n",
    "#         except AttributeError:\n",
    "#             continue\n",
    "#         if emoji:\n",
    "#             emoji_list.append(emoji)\n",
    "#     emojis = ' '.join(emoji_list)\n",
    "    \n",
    "    tweet = (username, handle, postdate, text, reply_cnt, retweet_cnt, like_cnt)\n",
    "    return tweet    "
   ]
  },
  {
   "cell_type": "code",
   "execution_count": 26,
   "id": "22b1f9f9",
   "metadata": {},
   "outputs": [
    {
     "data": {
      "text/plain": [
       "('Ethic',\n",
       " '@Ethic_',\n",
       " '2021-11-30T10:00:08.000Z',\n",
       " \"El historiador Yuval Noah Harari descifra algunas de las claves a las que deberemos atenernos en el futuro próximo: la inteligencia artificial, la gestión de nuestros propios datos, la amenaza de la violencia o el papel de la religión. \\n@EfectoNaimethic.es\\n«La información es la base del poder político: quien controla los datos, controla el mundo»\\nTras 10 años de 'Sapiens', Harari desentraña la perspectiva que puede esperar la humanidad en un futuro dominado por el peso de la información y los datos.\",\n",
       " '',\n",
       " '4',\n",
       " '3')"
      ]
     },
     "execution_count": 26,
     "metadata": {},
     "output_type": "execute_result"
    }
   ],
   "source": [
    "get_tweet_data(card)"
   ]
  },
  {
   "cell_type": "code",
   "execution_count": 28,
   "id": "e9c5e6b0",
   "metadata": {},
   "outputs": [],
   "source": [
    "data = []"
   ]
  },
  {
   "cell_type": "code",
   "execution_count": null,
   "id": "f1581ea7",
   "metadata": {},
   "outputs": [],
   "source": [
    "\n",
    "tweet_ids = set()\n",
    "last_position = driver.execute_script(\"return window.pageYOffset;\")\n",
    "scrolling = True\n",
    "\n",
    "while scrolling:\n",
    "    page_cards = driver.find_elements_by_xpath('//article[@data-testid=\"tweet\"]')\n",
    "    for card in page_cards:\n",
    "        tweet = get_tweet_data(card)\n",
    "        if tweet:\n",
    "            tweet_id = ''.join(tweet)\n",
    "            if tweet_id not in tweet_ids:\n",
    "                tweet_ids.add(tweet_id)\n",
    "                data.append(tweet)\n",
    "            \n",
    "    scroll_attempt = 0\n",
    "    while True:\n",
    "        # check scroll position\n",
    "        driver.execute_script('window.scrollTo(0, document.body.scrollHeight);')\n",
    "        sleep(2)\n",
    "        curr_position = driver.execute_script(\"return window.pageYOffset;\")\n",
    "        if last_position == curr_position:\n",
    "            scroll_attempt += 1\n",
    "            \n",
    "            # end of scroll region\n",
    "            if scroll_attempt >= 3:\n",
    "                scrolling = False\n",
    "                break\n",
    "            else:\n",
    "                sleep(2) # attempt another scroll\n",
    "        else:\n",
    "            last_position = curr_position\n",
    "            break\n",
    "\n",
    "# close the web driver\n",
    "driver.close()"
   ]
  },
  {
   "cell_type": "code",
   "execution_count": 145,
   "id": "3b32825f",
   "metadata": {},
   "outputs": [],
   "source": [
    "with open('harari_scraper_4.csv', 'w', newline='', encoding='utf-8') as f:\n",
    "    header = ['UserName', 'Handle', 'Timestamp', 'Text', 'Comments', 'Rerweets', 'Likes']\n",
    "    writer = csv.writer(f)\n",
    "    writer.writerow(header)\n",
    "    writer.writerows(data)"
   ]
  },
  {
   "cell_type": "code",
   "execution_count": 147,
   "id": "fb165d7c",
   "metadata": {},
   "outputs": [
    {
     "data": {
      "text/plain": [
       "2114"
      ]
     },
     "execution_count": 147,
     "metadata": {},
     "output_type": "execute_result"
    }
   ],
   "source": [
    "df = pd.read_csv('harari_scraper_4.csv')\n",
    "len(df)"
   ]
  },
  {
   "cell_type": "code",
   "execution_count": null,
   "id": "917a6240",
   "metadata": {},
   "outputs": [],
   "source": []
  }
 ],
 "metadata": {
  "kernelspec": {
   "display_name": "Python 3 (ipykernel)",
   "language": "python",
   "name": "python3"
  },
  "language_info": {
   "codemirror_mode": {
    "name": "ipython",
    "version": 3
   },
   "file_extension": ".py",
   "mimetype": "text/x-python",
   "name": "python",
   "nbconvert_exporter": "python",
   "pygments_lexer": "ipython3",
   "version": "3.9.7"
  }
 },
 "nbformat": 4,
 "nbformat_minor": 5
}
